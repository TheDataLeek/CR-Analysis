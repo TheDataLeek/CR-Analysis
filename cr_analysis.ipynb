{
 "cells": [
  {
   "cell_type": "markdown",
   "metadata": {},
   "source": [
    "# Analyzing Critical Role"
   ]
  },
  {
   "cell_type": "code",
   "execution_count": 344,
   "metadata": {},
   "outputs": [
    {
     "name": "stderr",
     "output_type": "stream",
     "text": [
      "Using TensorFlow backend.\n"
     ]
    }
   ],
   "source": [
    "import numpy as np\n",
    "import pandas as pd\n",
    "import pathlib\n",
    "from bs4 import BeautifulSoup\n",
    "import tqdm\n",
    "import json\n",
    "import matplotlib.pyplot as plt\n",
    "from sklearn import preprocessing as skl_pre\n",
    "from sklearn import model_selection\n",
    "import re\n",
    "from keras.models import Sequential, load_model\n",
    "from keras.layers import LSTM, Dense, Dropout, Embedding, Bidirectional\n",
    "from keras.callbacks import EarlyStopping, ModelCheckpoint"
   ]
  },
  {
   "cell_type": "code",
   "execution_count": 57,
   "metadata": {},
   "outputs": [],
   "source": [
    "%matplotlib inline"
   ]
  },
  {
   "cell_type": "code",
   "execution_count": 30,
   "metadata": {},
   "outputs": [],
   "source": [
    "curdir = pathlib.Path()"
   ]
  },
  {
   "cell_type": "code",
   "execution_count": 51,
   "metadata": {},
   "outputs": [],
   "source": [
    "def strip_chars(s):\n",
    "    return s.replace('→', '')"
   ]
  },
  {
   "cell_type": "code",
   "execution_count": 162,
   "metadata": {},
   "outputs": [],
   "source": [
    "author_map = {}\n",
    "for row in [[name.strip() for name in line.split(',')] for line in (curdir / 'author_map.txt').read_text().split('\\n')]:\n",
    "    actual_name = row[0]\n",
    "    author_map[actual_name] = actual_name\n",
    "    if len(row) > 1:\n",
    "        for other in row[1:]:\n",
    "            author_map[other] = actual_name"
   ]
  },
  {
   "cell_type": "code",
   "execution_count": 163,
   "metadata": {},
   "outputs": [],
   "source": [
    "def clean_author(s):\n",
    "    return s.strip().replace('# ', '').lower().capitalize()"
   ]
  },
  {
   "cell_type": "code",
   "execution_count": 164,
   "metadata": {},
   "outputs": [],
   "source": [
    "def parse_html():\n",
    "    output_file = curdir / 'cr.json'\n",
    "    if output_file.exists():\n",
    "        formatted = json.loads(output_file.read_text())\n",
    "    else:\n",
    "        parsed = []\n",
    "        files = list((curdir / 'html').glob('cr2*.html'))\n",
    "        for file in tqdm.tqdm(files):\n",
    "            soup = BeautifulSoup(file.read_text())\n",
    "            text = soup.get_text()\n",
    "            lines = text.split('\\n')\n",
    "            parsed_lines = []\n",
    "            author = None\n",
    "            curline = ''\n",
    "            for line in lines:\n",
    "                author_line = line.startswith('# ')\n",
    "\n",
    "                if not line:\n",
    "                    continue\n",
    "                if author is None and not author_line:\n",
    "                    continue\n",
    "                if author_line and not curline:\n",
    "                    author = line\n",
    "                    continue\n",
    "                if not author_line:\n",
    "                    curline += line\n",
    "                    continue\n",
    "                if author_line and curline:\n",
    "                    if ',' in author:\n",
    "                        for a in author.split(','):\n",
    "                            parsed_lines.append({'author': author_map[clean_author(a)], 'text': curline, 'file': str(file.name), 'ep': str(file.stem)})\n",
    "                    else:\n",
    "                        parsed_lines.append({'author': author_map[clean_author(author)], 'text': curline, 'file': str(file.name), 'ep': str(file.stem)})\n",
    "                    author = line\n",
    "                    curline = ''\n",
    "                    continue\n",
    "            parsed += parsed_lines\n",
    "        formatted = [\n",
    "                {\n",
    "                    'author': o['author'],\n",
    "                    'text': strip_chars(o['text']),\n",
    "                    'file': o['file'],\n",
    "                    'ep': o['ep'],\n",
    "                    'season': int(o['ep'].split('-')[0][2:]),\n",
    "                    'episode': int(o['ep'].split('-')[1]),\n",
    "                }\n",
    "                for o in parsed\n",
    "            ]\n",
    "        formatted.sort(key=lambda o: (o['season'], o['episode']))\n",
    "        output_file.write_text(json.dumps(formatted))\n",
    "\n",
    "    return formatted"
   ]
  },
  {
   "cell_type": "code",
   "execution_count": 165,
   "metadata": {},
   "outputs": [
    {
     "name": "stderr",
     "output_type": "stream",
     "text": [
      "100%|██████████| 99/99 [01:00<00:00,  1.63it/s]\n"
     ]
    }
   ],
   "source": [
    "json_formatted = parse_html()"
   ]
  },
  {
   "cell_type": "code",
   "execution_count": 166,
   "metadata": {},
   "outputs": [
    {
     "data": {
      "text/html": [
       "<div>\n",
       "<style scoped>\n",
       "    .dataframe tbody tr th:only-of-type {\n",
       "        vertical-align: middle;\n",
       "    }\n",
       "\n",
       "    .dataframe tbody tr th {\n",
       "        vertical-align: top;\n",
       "    }\n",
       "\n",
       "    .dataframe thead th {\n",
       "        text-align: right;\n",
       "    }\n",
       "</style>\n",
       "<table border=\"1\" class=\"dataframe\">\n",
       "  <thead>\n",
       "    <tr style=\"text-align: right;\">\n",
       "      <th></th>\n",
       "      <th>author</th>\n",
       "      <th>text</th>\n",
       "      <th>file</th>\n",
       "      <th>ep</th>\n",
       "      <th>season</th>\n",
       "      <th>episode</th>\n",
       "    </tr>\n",
       "  </thead>\n",
       "  <tbody>\n",
       "    <tr>\n",
       "      <th>0</th>\n",
       "      <td>Matt</td>\n",
       "      <td>Hello, everyone. (laughter) And welcome to ton...</td>\n",
       "      <td>cr2-1.html</td>\n",
       "      <td>cr2-1</td>\n",
       "      <td>2</td>\n",
       "      <td>1</td>\n",
       "    </tr>\n",
       "    <tr>\n",
       "      <th>1</th>\n",
       "      <td>Laura</td>\n",
       "      <td>As in nnnn.</td>\n",
       "      <td>cr2-1.html</td>\n",
       "      <td>cr2-1</td>\n",
       "      <td>2</td>\n",
       "      <td>1</td>\n",
       "    </tr>\n",
       "    <tr>\n",
       "      <th>2</th>\n",
       "      <td>Matt</td>\n",
       "      <td>Nnnn. But yeah, so they're going to be a long-...</td>\n",
       "      <td>cr2-1.html</td>\n",
       "      <td>cr2-1</td>\n",
       "      <td>2</td>\n",
       "      <td>1</td>\n",
       "    </tr>\n",
       "    <tr>\n",
       "      <th>3</th>\n",
       "      <td>Travis</td>\n",
       "      <td>(vomiting noises) Would you like some?</td>\n",
       "      <td>cr2-1.html</td>\n",
       "      <td>cr2-1</td>\n",
       "      <td>2</td>\n",
       "      <td>1</td>\n",
       "    </tr>\n",
       "    <tr>\n",
       "      <th>4</th>\n",
       "      <td>Matt</td>\n",
       "      <td>So yeah. I'm super excited to have that, guys....</td>\n",
       "      <td>cr2-1.html</td>\n",
       "      <td>cr2-1</td>\n",
       "      <td>2</td>\n",
       "      <td>1</td>\n",
       "    </tr>\n",
       "  </tbody>\n",
       "</table>\n",
       "</div>"
      ],
      "text/plain": [
       "   author                                               text        file  \\\n",
       "0    Matt  Hello, everyone. (laughter) And welcome to ton...  cr2-1.html   \n",
       "1   Laura                                       As in nnnn.   cr2-1.html   \n",
       "2    Matt  Nnnn. But yeah, so they're going to be a long-...  cr2-1.html   \n",
       "3  Travis            (vomiting noises) Would you like some?   cr2-1.html   \n",
       "4    Matt  So yeah. I'm super excited to have that, guys....  cr2-1.html   \n",
       "\n",
       "      ep  season  episode  \n",
       "0  cr2-1       2        1  \n",
       "1  cr2-1       2        1  \n",
       "2  cr2-1       2        1  \n",
       "3  cr2-1       2        1  \n",
       "4  cr2-1       2        1  "
      ]
     },
     "execution_count": 166,
     "metadata": {},
     "output_type": "execute_result"
    }
   ],
   "source": [
    "df = pd.read_json('cr.json')\n",
    "df.head()"
   ]
  },
  {
   "cell_type": "code",
   "execution_count": 240,
   "metadata": {},
   "outputs": [
    {
     "data": {
      "text/plain": [
       "[('Matt', 0.270876811272442),\n",
       " ('Laura', 0.14143096073294556),\n",
       " ('Sam', 0.1291757322795021),\n",
       " ('Travis', 0.11621005579977206),\n",
       " ('Marisha', 0.1155847135266344),\n",
       " ('Taliesin', 0.09810843213001198),\n",
       " ('Liam', 0.0959178840489617),\n",
       " ('Ashley', 0.03269541020973018)]"
      ]
     },
     "execution_count": 240,
     "metadata": {},
     "output_type": "execute_result"
    }
   ],
   "source": [
    "main_cast_probs = df.groupby('author').text.count().sort_values(ascending=False)[:8]\n",
    "main_cast = list(main_cast_probs.index)\n",
    "main_cast_probs = main_cast_probs.values / sum(main_cast_probs.values)\n",
    "list(zip(main_cast, main_cast_probs))"
   ]
  },
  {
   "cell_type": "code",
   "execution_count": 241,
   "metadata": {},
   "outputs": [],
   "source": [
    "nodes = main_cast\n",
    "node_lookup = {nodes[i]: i for i in range(len(nodes))}\n",
    "chain = np.zeros((len(nodes), len(nodes)), dtype=np.float64)\n",
    "\n",
    "previous = None\n",
    "for phrase in json_formatted:\n",
    "    author = phrase['author']\n",
    "    if author not in nodes:\n",
    "        continue\n",
    "    if previous is None:\n",
    "        previous = author\n",
    "        continue\n",
    "        \n",
    "    chain[node_lookup[previous], node_lookup[author]] += 1\n",
    "    previous = author\n",
    "chain = skl_pre.normalize(chain, norm='l1')"
   ]
  },
  {
   "cell_type": "code",
   "execution_count": 247,
   "metadata": {},
   "outputs": [
    {
     "data": {
      "image/png": "[encoded data removed]",
      "text/plain": [
       "<Figure size 576x576 with 2 Axes>"
      ]
     },
     "metadata": {
      "needs_background": "light"
     },
     "output_type": "display_data"
    }
   ],
   "source": [
    "fig = plt.figure(figsize=(8, 8))\n",
    "ax = fig.add_axes([0.1, 0.1, 0.8, 0.8])\n",
    "im = ax.imshow(chain, cmap='viridis')\n",
    "plt.colorbar(im)\n",
    "ax.set_xticklabels(['a'] + main_cast)\n",
    "ax.set_yticklabels(['a'] + main_cast)\n",
    "ax.set_title('Probabilities of \"Who speaks next\"')\n",
    "ax.set_xlabel('To')\n",
    "ax.set_ylabel('From')\n",
    "plt.show()"
   ]
  },
  {
   "cell_type": "code",
   "execution_count": 254,
   "metadata": {},
   "outputs": [],
   "source": [
    "def generate_scene(length=30):\n",
    "    start = np.random.choice(main_cast, 1, p=main_cast_probs)[0]\n",
    "    scene = [start]\n",
    "    for i in range(length - 1):\n",
    "        next_step = np.random.choice(main_cast, 1, p=chain[node_lookup[scene[i]]])[0]\n",
    "        scene.append(next_step)\n",
    "    return scene"
   ]
  },
  {
   "cell_type": "code",
   "execution_count": 258,
   "metadata": {},
   "outputs": [
    {
     "data": {
      "text/plain": [
       "['Matt',\n",
       " 'Sam',\n",
       " 'Laura',\n",
       " 'Matt',\n",
       " 'Ashley',\n",
       " 'Laura',\n",
       " 'Travis',\n",
       " 'Matt',\n",
       " 'Marisha',\n",
       " 'Taliesin',\n",
       " 'Matt',\n",
       " 'Marisha',\n",
       " 'Matt',\n",
       " 'Ashley',\n",
       " 'Matt',\n",
       " 'Liam',\n",
       " 'Matt',\n",
       " 'Laura',\n",
       " 'Matt',\n",
       " 'Travis',\n",
       " 'Taliesin',\n",
       " 'Travis',\n",
       " 'Sam',\n",
       " 'Matt',\n",
       " 'Laura',\n",
       " 'Travis',\n",
       " 'Matt',\n",
       " 'Liam',\n",
       " 'Taliesin',\n",
       " 'Liam']"
      ]
     },
     "execution_count": 258,
     "metadata": {},
     "output_type": "execute_result"
    }
   ],
   "source": [
    "generate_scene()"
   ]
  },
  {
   "cell_type": "code",
   "execution_count": 261,
   "metadata": {},
   "outputs": [],
   "source": [
    "main_cast_json = [obj for obj in json_formatted if obj['author'] in main_cast]"
   ]
  },
  {
   "cell_type": "code",
   "execution_count": 322,
   "metadata": {},
   "outputs": [],
   "source": [
    "def tokenize_sentence(message: str):\n",
    "    message = message.lower()\n",
    "    message = re.subn(r'\\([a-z]+\\)', \"\", message)[0]\n",
    "    chars_to_remove = '\"#$%()*+-<=>@[\\\\]^_`{|}~/'\n",
    "    message = \"\".join(c for c in message if c not in chars_to_remove)\n",
    "    message = re.subn(r'(&|,|\\.|\\?|!)', r\" \\1 \", message)[0]\n",
    "    message = re.subn(r'  ', \" \", message)[0]\n",
    "    words = [w for w in re.split(r\"\\s\", message) if w != '']\n",
    "    return words"
   ]
  },
  {
   "cell_type": "code",
   "execution_count": 323,
   "metadata": {},
   "outputs": [
    {
     "data": {
      "text/plain": [
       "['hello',\n",
       " ',',\n",
       " 'everyone',\n",
       " '.',\n",
       " 'and',\n",
       " 'welcome',\n",
       " 'to',\n",
       " \"tonight's\",\n",
       " 'episode',\n",
       " 'of']"
      ]
     },
     "execution_count": 323,
     "metadata": {},
     "output_type": "execute_result"
    }
   ],
   "source": [
    "tokenize_sentence(main_cast_json[0]['text'])[:10]"
   ]
  },
  {
   "cell_type": "code",
   "execution_count": 324,
   "metadata": {},
   "outputs": [],
   "source": [
    "def preprocess(text):\n",
    "    just_content = [t[\"text\"].lower() for t in text]\n",
    "\n",
    "    index = 1\n",
    "    word_index = {}\n",
    "    sequences = []\n",
    "    for message in just_content:\n",
    "        words = tokenize_sentence(message)\n",
    "        for word in words:\n",
    "            if word not in word_index:\n",
    "                word_index[word] = index\n",
    "                index += 1\n",
    "        sequences.append([word_index[word] for word in words])\n",
    "\n",
    "    index_word = {v: k for k, v in word_index.items()}\n",
    "\n",
    "    for i, seq in enumerate(sequences):\n",
    "        text[i][\"sequence\"] = seq\n",
    "        text[i][\"tokenized\"] = \" \".join(index_word[s] for s in seq)\n",
    "\n",
    "    return text, word_index, index_word"
   ]
  },
  {
   "cell_type": "code",
   "execution_count": 332,
   "metadata": {},
   "outputs": [],
   "source": [
    "just_liam = [obj for obj in main_cast_json if obj['author'] == 'Liam']"
   ]
  },
  {
   "cell_type": "code",
   "execution_count": 333,
   "metadata": {},
   "outputs": [],
   "source": [
    "new_text, word_index, index_word = preprocess(just_liam)"
   ]
  },
  {
   "cell_type": "code",
   "execution_count": 334,
   "metadata": {},
   "outputs": [
    {
     "data": {
      "text/plain": [
       "{'author': 'Liam',\n",
       " 'text': \"That's actually how Purvon dressed. \",\n",
       " 'file': 'cr2-1.html',\n",
       " 'ep': 'cr2-1',\n",
       " 'season': 2,\n",
       " 'episode': 1,\n",
       " 'tokenized': \"that's actually how purvon dressed .\",\n",
       " 'sequence': [1, 2, 3, 4, 5, 6]}"
      ]
     },
     "execution_count": 334,
     "metadata": {},
     "output_type": "execute_result"
    }
   ],
   "source": [
    "new_text[0]"
   ]
  },
  {
   "cell_type": "code",
   "execution_count": 335,
   "metadata": {},
   "outputs": [],
   "source": [
    "TIMESTEP = 10\n",
    "def generate_features_and_labels(text, word_index):\n",
    "    features = []\n",
    "    labels = []\n",
    "\n",
    "    training_length = TIMESTEP\n",
    "    for message in text:\n",
    "        sequence = message[\"sequence\"]\n",
    "        if len(sequence) < training_length:\n",
    "            continue\n",
    "\n",
    "        for i in range(training_length, len(sequence)):\n",
    "            extract = sequence[i - training_length : i + 1]\n",
    "\n",
    "            features.append(extract[:-1])  # train on first 4\n",
    "            labels.append(extract[-1])  # label is last\n",
    "\n",
    "    features = np.array(features)\n",
    "\n",
    "    # one-hot encode (switch to binary representation) for words\n",
    "    num_words = len(word_index) + 1\n",
    "    label_array = np.zeros((len(features), num_words), dtype=np.int8)\n",
    "    for i, label in enumerate(labels):\n",
    "        label_array[i, label] = 1\n",
    "\n",
    "    print(f\"Feature Dimensions: {features.shape}\")\n",
    "    print(f\"Label Dimensions: {label_array.shape}\")\n",
    "\n",
    "    (\n",
    "        feature_train,\n",
    "        feature_test,\n",
    "        label_train,\n",
    "        label_test,\n",
    "    ) = model_selection.train_test_split(\n",
    "        features, label_array, test_size=0.1, shuffle=True\n",
    "    )\n",
    "\n",
    "    return feature_train, feature_test, label_train, label_test"
   ]
  },
  {
   "cell_type": "code",
   "execution_count": 338,
   "metadata": {},
   "outputs": [
    {
     "name": "stdout",
     "output_type": "stream",
     "text": [
      "Feature Dimensions: (139654, 10)\n",
      "Label Dimensions: (139654, 12576)\n"
     ]
    }
   ],
   "source": [
    "(\n",
    "    feature_train,\n",
    "    feature_test,\n",
    "    label_train,\n",
    "    label_test,\n",
    ") = generate_features_and_labels(new_text, word_index)"
   ]
  },
  {
   "cell_type": "code",
   "execution_count": 348,
   "metadata": {},
   "outputs": [],
   "source": [
    "def build_model(\n",
    "    feature_train,\n",
    "    feature_test,\n",
    "    label_train,\n",
    "    label_test,\n",
    "    word_index,\n",
    "):\n",
    "    num_words = len(word_index) + 1\n",
    "\n",
    "    dim = 25\n",
    "\n",
    "    # set up model\n",
    "    model = Sequential()  # Build model one layer at a time\n",
    "    weights = None\n",
    "    model.add(\n",
    "        Embedding(  # maps each input word to 100-dim vector\n",
    "            input_dim=num_words,  # how many words can input\n",
    "            input_length=TIMESTEP,  # timestep length\n",
    "            output_dim=dim,  # output vector\n",
    "            weights=weights,\n",
    "            trainable=True,  # update embeddings\n",
    "        )\n",
    "    )\n",
    "    model.add(\n",
    "        Bidirectional(\n",
    "            LSTM(64, return_sequences=True, dropout=0.1, recurrent_dropout=0.1),\n",
    "            input_shape=(TIMESTEP, dim),\n",
    "        )\n",
    "    )\n",
    "    model.add(\n",
    "        Bidirectional(\n",
    "            LSTM(64, return_sequences=True, dropout=0.1, recurrent_dropout=0.1)\n",
    "        )\n",
    "    )\n",
    "    model.add(\n",
    "        Bidirectional(\n",
    "            LSTM(64, return_sequences=False, dropout=0.1, recurrent_dropout=0.1)\n",
    "        )\n",
    "    )\n",
    "    model.add(Dense(64, activation=\"relu\"))\n",
    "    model.add(Dropout(0.25))  # input is rate that things are zeroed\n",
    "    model.add(Dense(num_words, activation=\"softmax\"))\n",
    "    model.compile(\n",
    "        optimizer=\"adam\", loss=\"categorical_crossentropy\", metrics=[\"accuracy\"]\n",
    "    )\n",
    "    model.summary()\n",
    "\n",
    "    # train\n",
    "    callbacks = [\n",
    "        EarlyStopping(monitor=\"val_loss\", patience=5),\n",
    "        ModelCheckpoint(\n",
    "            \"./models/model.h5\", save_best_only=True, save_weights_only=False\n",
    "        ),\n",
    "    ]\n",
    "\n",
    "    history = model.fit(\n",
    "        feature_train,\n",
    "        label_train,\n",
    "        batch_size=2048,\n",
    "        epochs=150,\n",
    "        callbacks=callbacks,\n",
    "        validation_data=(feature_test, label_test),\n",
    "    )\n"
   ]
  },
  {
   "cell_type": "code",
   "execution_count": 349,
   "metadata": {},
   "outputs": [
    {
     "name": "stdout",
     "output_type": "stream",
     "text": [
      "Model: \"sequential_3\"\n",
      "_________________________________________________________________\n",
      "Layer (type)                 Output Shape              Param #   \n",
      "=================================================================\n",
      "embedding_2 (Embedding)      (None, 10, 25)            314400    \n",
      "_________________________________________________________________\n",
      "bidirectional_4 (Bidirection (None, 10, 128)           46080     \n",
      "_________________________________________________________________\n",
      "bidirectional_5 (Bidirection (None, 10, 128)           98816     \n",
      "_________________________________________________________________\n",
      "bidirectional_6 (Bidirection (None, 128)               98816     \n",
      "_________________________________________________________________\n",
      "dense_3 (Dense)              (None, 64)                8256      \n",
      "_________________________________________________________________\n",
      "dropout_2 (Dropout)          (None, 64)                0         \n",
      "_________________________________________________________________\n",
      "dense_4 (Dense)              (None, 12576)             817440    \n",
      "=================================================================\n",
      "Total params: 1,383,808\n",
      "Trainable params: 1,383,808\n",
      "Non-trainable params: 0\n",
      "_________________________________________________________________\n",
      "Train on 125688 samples, validate on 13966 samples\n",
      "Epoch 1/150\n",
      "125688/125688 [==============================] - 45s 357us/step - loss: 7.2960 - accuracy: 0.0675 - val_loss: 5.9412 - val_accuracy: 0.0879\n",
      "Epoch 2/150\n",
      "125688/125688 [==============================] - 43s 343us/step - loss: 5.9818 - accuracy: 0.0856 - val_loss: 5.9384 - val_accuracy: 0.0879\n",
      "Epoch 3/150\n",
      "125688/125688 [==============================] - 42s 336us/step - loss: 5.9583 - accuracy: 0.0858 - val_loss: 5.9489 - val_accuracy: 0.0879\n",
      "Epoch 4/150\n",
      "125688/125688 [==============================] - 43s 338us/step - loss: 5.9508 - accuracy: 0.0858 - val_loss: 5.9587 - val_accuracy: 0.0879\n",
      "Epoch 5/150\n",
      "125688/125688 [==============================] - 42s 330us/step - loss: 5.9467 - accuracy: 0.0858 - val_loss: 5.9639 - val_accuracy: 0.0879\n",
      "Epoch 6/150\n",
      "125688/125688 [==============================] - 41s 330us/step - loss: 5.9434 - accuracy: 0.0858 - val_loss: 5.9686 - val_accuracy: 0.0879\n",
      "Epoch 7/150\n",
      "125688/125688 [==============================] - 41s 326us/step - loss: 5.9385 - accuracy: 0.0858 - val_loss: 5.9727 - val_accuracy: 0.0879\n"
     ]
    }
   ],
   "source": [
    "build_model(\n",
    "    feature_train,\n",
    "    feature_test,\n",
    "    label_train,\n",
    "    label_test,\n",
    "    word_index,\n",
    ")"
   ]
  },
  {
   "cell_type": "code",
   "execution_count": 351,
   "metadata": {},
   "outputs": [],
   "source": [
    "def cleanup(input_string: str) -> str:\n",
    "    output_string = re.subn(r\" ([,\\.\\!\\?])\", r\"\\1\", input_string)[0]\n",
    "    output_string = re.subn(r\" i([ ,\\.\\!\\?'])\", r\" I\\1\", output_string)[0]\n",
    "\n",
    "    to_upper = lambda match: match.group(1).upper()\n",
    "    output_string = re.subn(r\"^(\\w)\", to_upper, output_string)[0]\n",
    "    to_upper = lambda match: f\"{match.group(1)}{match.group(2).upper()}\"\n",
    "    output_string = re.subn(r\"([.\\!\\?] )(\\w)\", to_upper, output_string)[0]\n",
    "\n",
    "    if output_string[-1] not in \",.!?\":\n",
    "        output_string += random.choice(\",.!?\")\n",
    "\n",
    "    return output_string"
   ]
  },
  {
   "cell_type": "code",
   "execution_count": null,
   "metadata": {},
   "outputs": [],
   "source": [
    "model_dir = pathlib.Path(\"./models\")\n",
    "model = model_dir / \"model.h5\"\n",
    "model = load_model(model)\n",
    "\n",
    "while True:\n",
    "    user_input = input(\"> \")\n",
    "    null_input = np.ones(TIMESTEP) * word_index[\".\"]\n",
    "    seq = []\n",
    "    for word in tokenize_sentence(user_input):\n",
    "        if word in word_index:\n",
    "            seq.append(word_index[word])\n",
    "    if len(seq) == 0:\n",
    "        continue\n",
    "    seq = seq[-TIMESTEP:]\n",
    "    null_input[-len(seq) :] = seq\n",
    "    start = np.array([null_input], dtype=np.float64)\n",
    "\n",
    "    response = []\n",
    "    for i in range(30):\n",
    "        preds = model.predict(start)[0].astype(np.float64)\n",
    "        preds = preds / sum(preds)  # normalize\n",
    "        probas = np.random.multinomial(1, preds, 1)[0]\n",
    "\n",
    "        next_idx = np.argmax(probas)\n",
    "        response.append(next_idx)\n",
    "\n",
    "        if next_idx in [word_index[\".\"], word_index[\"!\"], word_index[\"?\"]]:\n",
    "            break\n",
    "\n",
    "        start = np.array([[*start[0], next_idx][-TIMESTEP:]], dtype=np.float64)\n",
    "\n",
    "    print(cleanup(\" \".join(index_word[s] for s in response)))\n"
   ]
  },
  {
   "cell_type": "code",
   "execution_count": null,
   "metadata": {},
   "outputs": [],
   "source": []
  },
  {
   "cell_type": "code",
   "execution_count": null,
   "metadata": {},
   "outputs": [],
   "source": []
  },
  {
   "cell_type": "code",
   "execution_count": null,
   "metadata": {},
   "outputs": [],
   "source": []
  }
 ],
 "metadata": {
  "kernelspec": {
   "display_name": "Python 3",
   "language": "python",
   "name": "python3"
  },
  "language_info": {
   "codemirror_mode": {
    "name": "ipython",
    "version": 3
   },
   "file_extension": ".py",
   "mimetype": "text/x-python",
   "name": "python",
   "nbconvert_exporter": "python",
   "pygments_lexer": "ipython3",
   "version": "3.8.3"
  }
 },
 "nbformat": 4,
 "nbformat_minor": 4
}
